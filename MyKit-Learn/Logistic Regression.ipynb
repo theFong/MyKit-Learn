{
 "cells": [
  {
   "cell_type": "markdown",
   "metadata": {},
   "source": [
    "# Logistic Regression"
   ]
  },
  {
   "cell_type": "markdown",
   "metadata": {},
   "source": [
    "Using mnist_subset(images of handwritten digits from 0 to 9).  The dataset is stored ina JSON-formated  lemnistsubset.json. You can access its training, validation, and test splits useing the keys 'train', 'valid', and 'test', respectively. For example, suppose we loadmnistsubset.jsonto the variablex.  Then, x['train'] refers to the training set of mnist_subset.  This set is a list with two elements: x['train'][0] containing the features of sizeN(samples) X D(dimension of features), and x['train'][1] containing the corresponding labels of sizeN."
   ]
  },
  {
   "cell_type": "markdown",
   "metadata": {},
   "source": [
    "## Logistic Binary Classifier"
   ]
  },
  {
   "cell_type": "markdown",
   "metadata": {},
   "source": [
    "## Logistic Classifier Multiclass"
   ]
  },
  {
   "cell_type": "markdown",
   "metadata": {},
   "source": [
    "## One versus the rest logistic multiclass classifier"
   ]
  },
  {
   "cell_type": "code",
   "execution_count": null,
   "metadata": {},
   "outputs": [],
   "source": []
  }
 ],
 "metadata": {
  "kernelspec": {
   "display_name": "Python 3",
   "language": "python",
   "name": "python3"
  },
  "language_info": {
   "codemirror_mode": {
    "name": "ipython",
    "version": 3
   },
   "file_extension": ".py",
   "mimetype": "text/x-python",
   "name": "python",
   "nbconvert_exporter": "python",
   "pygments_lexer": "ipython3",
   "version": "3.6.4"
  }
 },
 "nbformat": 4,
 "nbformat_minor": 2
}
